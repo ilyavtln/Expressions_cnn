{
 "cells": [
  {
   "cell_type": "code",
   "id": "initial_id",
   "metadata": {
    "collapsed": true,
    "jupyter": {
     "outputs_hidden": true
    },
    "ExecuteTime": {
     "end_time": "2024-05-29T11:17:27.048437Z",
     "start_time": "2024-05-29T11:17:27.043552Z"
    }
   },
   "source": [
    "# Нужные библиотеки\n",
    "import torch\n",
    "import torch.nn as nn\n",
    "import torch.nn.functional as F\n",
    "import torch.utils.data.dataloader as dl\n",
    "import torchvision\n",
    "import torchvision as tv\n",
    "import torchvision.transforms as transforms\n",
    "\n",
    "import numpy as np\n",
    "import os\n",
    "import cv2\n",
    "from tqdm import tqdm\n",
    "\n",
    "from PIL import Image\n",
    "import matplotlib.pyplot as plt"
   ],
   "outputs": [],
   "execution_count": 652
  },
  {
   "cell_type": "code",
   "id": "9d17673e9c4a0f48",
   "metadata": {
    "ExecuteTime": {
     "end_time": "2024-05-29T11:16:39.152418Z",
     "start_time": "2024-05-29T11:16:39.148234Z"
    }
   },
   "source": [
    "if torch.cuda.is_available():\n",
    "  print(\"You can use cuda\")\n",
    "  device = torch.device(\"cuda\")\n",
    "else:\n",
    "  print(\"You cant use only cpu\")\n",
    "  device = torch.device(\"cpu\")"
   ],
   "outputs": [
    {
     "name": "stdout",
     "output_type": "stream",
     "text": [
      "You can use cuda\n"
     ]
    }
   ],
   "execution_count": 638
  },
  {
   "cell_type": "code",
   "id": "ef1e317ee836dde3",
   "metadata": {
    "ExecuteTime": {
     "end_time": "2024-05-29T11:16:39.810098Z",
     "start_time": "2024-05-29T11:16:39.806345Z"
    }
   },
   "source": [
    "print(torch.version.cuda)"
   ],
   "outputs": [
    {
     "name": "stdout",
     "output_type": "stream",
     "text": [
      "12.1\n"
     ]
    }
   ],
   "execution_count": 639
  },
  {
   "metadata": {
    "ExecuteTime": {
     "end_time": "2024-05-29T11:16:40.497265Z",
     "start_time": "2024-05-29T11:16:40.492672Z"
    }
   },
   "cell_type": "code",
   "source": [
    "# Делаем массив с нашими классами для нейросети\n",
    "root_classes = []\n",
    "for class_name in sorted(os.listdir('dataset/')):\n",
    "      root_classes.append(class_name)\n",
    "print(len(root_classes))      "
   ],
   "id": "932eb17464fff61c",
   "outputs": [
    {
     "name": "stdout",
     "output_type": "stream",
     "text": [
      "82\n"
     ]
    }
   ],
   "execution_count": 640
  },
  {
   "cell_type": "code",
   "id": "6e4f8ecaa8816aac",
   "metadata": {
    "ExecuteTime": {
     "end_time": "2024-05-29T11:16:41.042783Z",
     "start_time": "2024-05-29T11:16:41.037096Z"
    }
   },
   "source": [
    "class CustomDataset(dl.Dataset):\n",
    "  def __init__(self, root_dir, transform=None):\n",
    "    super(CustomDataset, self).__init__()\n",
    "    \n",
    "    self.transform = transform\n",
    "    self.data_dir = root_dir\n",
    "    self.classes = sorted(os.listdir(root_dir))\n",
    "    self.images = []\n",
    "    self.labels = []\n",
    "    \n",
    "    for class_dir in self.classes:\n",
    "      class_path = os.path.join(root_dir, class_dir)\n",
    "      \n",
    "      if os.path.isdir(class_path):\n",
    "        for img_name in os.listdir(class_path):\n",
    "          image_path = os.path.join(class_path, img_name)\n",
    "          self.images.append(image_path)\n",
    "          self.labels.append(class_dir)\n",
    "                  \n",
    "    \n",
    "  def __len__(self):\n",
    "    return len(self.images)\n",
    "  \n",
    "  \n",
    "  def __getitem__(self, idx):\n",
    "    image_path = self.images[idx]\n",
    "    item_id = root_classes.index(self.labels[idx])\n",
    "    image = cv2.imread(image_path, cv2.IMREAD_GRAYSCALE)\n",
    "    \n",
    "    image = image.astype(np.float32)\n",
    "    image = image / 255.0\n",
    "    \n",
    "    image = cv2.resize(image, (64, 64), interpolation=cv2.INTER_AREA)\n",
    "    \n",
    "    if self.transform is not None:\n",
    "      image = self.transform(image)\n",
    "      \n",
    "    item_id = torch.tensor(item_id)\n",
    "    \n",
    "    return image, item_id\n",
    "    "
   ],
   "outputs": [],
   "execution_count": 641
  },
  {
   "metadata": {
    "ExecuteTime": {
     "end_time": "2024-05-29T11:16:41.639012Z",
     "start_time": "2024-05-29T11:16:41.635597Z"
    }
   },
   "cell_type": "code",
   "source": [
    "trans = transforms.Compose([\n",
    "  transforms.ToTensor()\n",
    "])"
   ],
   "id": "c2b57a074fc02aa9",
   "outputs": [],
   "execution_count": 642
  },
  {
   "cell_type": "code",
   "id": "60d9c05f7e92b278",
   "metadata": {
    "ExecuteTime": {
     "end_time": "2024-05-29T11:16:43.012415Z",
     "start_time": "2024-05-29T11:16:42.175012Z"
    }
   },
   "source": "custom_dataset = CustomDataset(root_dir='dataset/', transform=trans)",
   "outputs": [],
   "execution_count": 643
  },
  {
   "metadata": {
    "ExecuteTime": {
     "end_time": "2024-05-29T11:16:43.534564Z",
     "start_time": "2024-05-29T11:16:43.425539Z"
    }
   },
   "cell_type": "code",
   "source": [
    "img = custom_dataset[182311]\n",
    "print(root_classes[img[1].numpy()])\n",
    "plt.imshow(img[0].numpy()[0], cmap='gray')"
   ],
   "id": "90221937c531807c",
   "outputs": [
    {
     "name": "stdout",
     "output_type": "stream",
     "text": [
      "9\n"
     ]
    },
    {
     "data": {
      "text/plain": [
       "<matplotlib.image.AxesImage at 0x20f24ed5940>"
      ]
     },
     "execution_count": 644,
     "metadata": {},
     "output_type": "execute_result"
    },
    {
     "data": {
      "text/plain": [
       "<Figure size 640x480 with 1 Axes>"
      ],
      "image/png": "[encoded data removed]"
     },
     "metadata": {},
     "output_type": "display_data"
    }
   ],
   "execution_count": 644
  },
  {
   "metadata": {
    "ExecuteTime": {
     "end_time": "2024-05-29T11:16:44.084786Z",
     "start_time": "2024-05-29T11:16:44.080664Z"
    }
   },
   "cell_type": "code",
   "source": [
    "num_epochs = 3\n",
    "\n",
    "batch_size = 16\n",
    "num_workers = 0\n",
    "learning_rate = 1e-3\n",
    "bet = (0.9, 0.999)"
   ],
   "id": "ffceb00d63925be8",
   "outputs": [],
   "execution_count": 645
  },
  {
   "metadata": {
    "ExecuteTime": {
     "end_time": "2024-05-29T11:16:44.771786Z",
     "start_time": "2024-05-29T11:16:44.767868Z"
    }
   },
   "cell_type": "code",
   "source": [
    "train_loader = torch.utils.data.DataLoader(dataset=custom_dataset,\n",
    "                                           batch_size=batch_size,\n",
    "                                           shuffle=True,\n",
    "                                           num_workers=num_workers,\n",
    "                                           drop_last=True)\n",
    "\n",
    "test_loader = torch.utils.data.DataLoader(dataset=custom_dataset,\n",
    "                                          batch_size=batch_size,\n",
    "                                          shuffle=False,\n",
    "                                          num_workers=num_workers,\n",
    "                                          drop_last=False)"
   ],
   "id": "e72dfd2ee2ab7470",
   "outputs": [],
   "execution_count": 646
  },
  {
   "metadata": {
    "ExecuteTime": {
     "end_time": "2024-05-29T11:19:50.419846Z",
     "start_time": "2024-05-29T11:19:50.414052Z"
    }
   },
   "cell_type": "code",
   "source": [
    "class ConvNS(nn.Module):\n",
    "    def __init__(self):\n",
    "        super(ConvNS, self).__init__()\n",
    "\n",
    "        self.act = nn.LeakyReLU()\n",
    "        self.pool = nn.MaxPool2d(2, 2)\n",
    "        \n",
    "        self.conv0 = nn.Conv2d(1, 32, kernel_size=5, stride=1, padding=2)\n",
    "        self.conv1 = nn.Conv2d(32, 32, kernel_size=5, stride=1, padding=2)\n",
    "        self.conv2 = nn.Conv2d(32, 64, kernel_size=5, stride=1, padding=2)\n",
    "        self.conv3 = nn.Conv2d(64, 128, kernel_size=5, stride=1, padding=2)\n",
    "        \n",
    "        self.adaptive = nn.AdaptiveAvgPool2d((1, 1))\n",
    "        self.flatten = nn.Flatten()\n",
    "        self.linear1 = nn.Linear(128, 1024)\n",
    "        self.linear2 = nn.Linear(1024, 82)\n",
    "\n",
    "    def forward(self, x):\n",
    "        out = self.conv0(x)\n",
    "        out = self.act(out)\n",
    "        out = self.pool(out)\n",
    "        \n",
    "        out = self.conv1(out)\n",
    "        out = self.act(out)\n",
    "        out = self.pool(out)\n",
    "        \n",
    "        out = self.conv2(out)\n",
    "        out = self.act(out)\n",
    "        out = self.pool(out)\n",
    "        \n",
    "        out = self.conv3(out)\n",
    "        out = self.act(out)\n",
    "        out = self.pool(out)\n",
    "        \n",
    "        out = self.adaptive(out)\n",
    "        out = self.flatten(out)\n",
    "        out = self.linear1(out)\n",
    "        out = self.act(out)\n",
    "        out = self.linear2(out)\n",
    "        \n",
    "        return out"
   ],
   "id": "88ca51a2e2ece305",
   "outputs": [],
   "execution_count": 659
  },
  {
   "metadata": {
    "ExecuteTime": {
     "end_time": "2024-05-29T11:20:35.854892Z",
     "start_time": "2024-05-29T11:20:35.844319Z"
    }
   },
   "cell_type": "code",
   "source": [
    "model = ConvNS().to(device)\n",
    "loss_func = nn.CrossEntropyLoss()\n",
    "optimizer = torch.optim.Adam(model.parameters(), lr=learning_rate, betas=bet)"
   ],
   "id": "754341459db367d0",
   "outputs": [],
   "execution_count": 664
  },
  {
   "metadata": {
    "ExecuteTime": {
     "end_time": "2024-05-29T11:20:36.164067Z",
     "start_time": "2024-05-29T11:20:36.160075Z"
    }
   },
   "cell_type": "code",
   "source": [
    "print(len(train_loader))\n",
    "total_step = len(train_loader)"
   ],
   "id": "7d24a9afa5de6639",
   "outputs": [
    {
     "name": "stdout",
     "output_type": "stream",
     "text": [
      "23498\n"
     ]
    }
   ],
   "execution_count": 665
  },
  {
   "metadata": {
    "ExecuteTime": {
     "end_time": "2024-05-29T11:20:36.586538Z",
     "start_time": "2024-05-29T11:20:36.582840Z"
    }
   },
   "cell_type": "code",
   "source": [
    "def accuracy(pred, label):\n",
    "  answer = F.softmax(pred.detach()).numpy().argmax(1) == label.numpy().argmax(1)\n",
    "  return answer.mean()"
   ],
   "id": "50aa50eadc889d0d",
   "outputs": [],
   "execution_count": 666
  },
  {
   "metadata": {
    "ExecuteTime": {
     "end_time": "2024-05-29T11:29:31.379123Z",
     "start_time": "2024-05-29T11:20:37.002273Z"
    }
   },
   "cell_type": "code",
   "source": [
    "lost_item = 0\n",
    "acc_cur = 0\n",
    "for epoch in range(num_epochs):\n",
    "    los_val = 0\n",
    "    acc_val = 0\n",
    "    for img, label in (pbar := tqdm(train_loader)):\n",
    "        optimizer.zero_grad()\n",
    "\n",
    "        label = F.one_hot(label, 82).float().to(device)\n",
    "        img = img.to(device)\n",
    "\n",
    "        pred = model(img)\n",
    "\n",
    "        loss = loss_func(pred, label)\n",
    "\n",
    "        loss.backward()\n",
    "        lost_item = loss.item()\n",
    "        los_val += lost_item\n",
    "\n",
    "        optimizer.step()\n",
    "\n",
    "        acc_cur = accuracy(pred.cpu(), label.cpu())\n",
    "        acc_val += acc_cur\n",
    "\n",
    "    pbar.set_description(f'loss: {lost_item:.4f}\\nacc: {acc_cur:.4f}')\n",
    "    print(los_val / len(train_loader))\n",
    "    print(acc_val / len(train_loader))"
   ],
   "id": "1068f645f4bb1f93",
   "outputs": [
    {
     "name": "stderr",
     "output_type": "stream",
     "text": [
      "  0%|          | 0/23498 [00:00<?, ?it/s]C:\\Users\\owtf0\\AppData\\Local\\Temp\\ipykernel_30248\\1616411522.py:2: UserWarning: Implicit dimension choice for softmax has been deprecated. Change the call to include dim=X as an argument.\n",
      "  answer = F.softmax(pred.detach()).numpy().argmax(1) == label.numpy().argmax(1)\n",
      "100%|██████████| 23498/23498 [02:50<00:00, 138.03it/s]\n"
     ]
    },
    {
     "name": "stdout",
     "output_type": "stream",
     "text": [
      "0.3037045045657323\n",
      "0.9123249851051153\n"
     ]
    },
    {
     "name": "stderr",
     "output_type": "stream",
     "text": [
      "100%|██████████| 23498/23498 [02:56<00:00, 133.26it/s]\n"
     ]
    },
    {
     "name": "stdout",
     "output_type": "stream",
     "text": [
      "0.12261297399650661\n",
      "0.9607572984934888\n"
     ]
    },
    {
     "name": "stderr",
     "output_type": "stream",
     "text": [
      "100%|██████████| 23498/23498 [03:07<00:00, 125.12it/s]"
     ]
    },
    {
     "name": "stdout",
     "output_type": "stream",
     "text": [
      "0.09531754758993036\n",
      "0.969218124946804\n"
     ]
    },
    {
     "name": "stderr",
     "output_type": "stream",
     "text": [
      "\n"
     ]
    }
   ],
   "execution_count": 667
  },
  {
   "metadata": {
    "ExecuteTime": {
     "end_time": "2024-05-29T11:32:08.304073Z",
     "start_time": "2024-05-29T11:30:31.664972Z"
    }
   },
   "cell_type": "code",
   "source": [
    "model.eval()\n",
    "with torch.no_grad():\n",
    "    correct = 0\n",
    "    total = 0\n",
    "    for images, labels in test_loader:\n",
    "        images = images.to(device)\n",
    "        labels = labels.to(device)\n",
    "\n",
    "        outputs = model(images)\n",
    "        _, predicted = torch.max(outputs.data, 1)\n",
    "        total += labels.size(0)\n",
    "        correct += (predicted == labels).sum().item()\n",
    "\n",
    "    print('Test Accuracy {} %'.format((correct / total) * 100))"
   ],
   "id": "d3cb7698a5293969",
   "outputs": [
    {
     "name": "stdout",
     "output_type": "stream",
     "text": [
      "Test Accuracy 97.44716389963136 %\n"
     ]
    }
   ],
   "execution_count": 668
  },
  {
   "metadata": {
    "ExecuteTime": {
     "end_time": "2024-05-29T11:42:30.346977Z",
     "start_time": "2024-05-29T11:42:30.336880Z"
    }
   },
   "cell_type": "code",
   "source": [
    "# Сохранение модели\n",
    "model_save_path = 'models/expr_convnet.pth'\n",
    "torch.save(model.state_dict(), model_save_path)\n",
    "print(f\"Model saved to {model_save_path}\")"
   ],
   "id": "6e664bf2534b4c0",
   "outputs": [
    {
     "name": "stdout",
     "output_type": "stream",
     "text": [
      "Model saved to models/expr_convnet.pth\n"
     ]
    }
   ],
   "execution_count": 681
  },
  {
   "metadata": {
    "ExecuteTime": {
     "end_time": "2024-05-29T11:42:30.677753Z",
     "start_time": "2024-05-29T11:42:30.673450Z"
    }
   },
   "cell_type": "code",
   "source": [
    "test_img = custom_dataset[3501][0].numpy()[0]\n",
    "test_img = cv2.resize(test_img, (64, 64), interpolation=cv2.INTER_AREA)"
   ],
   "id": "ba2bebdc0b7afc8b",
   "outputs": [],
   "execution_count": 682
  },
  {
   "metadata": {
    "ExecuteTime": {
     "end_time": "2024-05-29T11:42:32.307999Z",
     "start_time": "2024-05-29T11:42:32.228528Z"
    }
   },
   "cell_type": "code",
   "source": [
    "print(test_img.shape)\n",
    "plt.imshow(test_img)"
   ],
   "id": "5692ae0458ee8068",
   "outputs": [
    {
     "name": "stdout",
     "output_type": "stream",
     "text": [
      "(64, 64)\n"
     ]
    },
    {
     "data": {
      "text/plain": [
       "<matplotlib.image.AxesImage at 0x20f26df1430>"
      ]
     },
     "execution_count": 683,
     "metadata": {},
     "output_type": "execute_result"
    },
    {
     "data": {
      "text/plain": [
       "<Figure size 640x480 with 1 Axes>"
      ],
      "image/png": "[encoded data removed]"
     },
     "metadata": {},
     "output_type": "display_data"
    }
   ],
   "execution_count": 683
  },
  {
   "metadata": {
    "ExecuteTime": {
     "end_time": "2024-05-29T11:42:43.588822Z",
     "start_time": "2024-05-29T11:42:43.585302Z"
    }
   },
   "cell_type": "code",
   "source": [
    "test_img = np.expand_dims(test_img, axis=0)\n",
    "test_img = np.expand_dims(test_img, axis=0)\n",
    "print(test_img.shape)"
   ],
   "id": "8ccf9d394ece4e75",
   "outputs": [
    {
     "name": "stdout",
     "output_type": "stream",
     "text": [
      "(1, 1, 64, 64)\n"
     ]
    }
   ],
   "execution_count": 684
  },
  {
   "metadata": {
    "ExecuteTime": {
     "end_time": "2024-05-29T11:42:45.645536Z",
     "start_time": "2024-05-29T11:42:45.639762Z"
    }
   },
   "cell_type": "code",
   "source": [
    "torch_img = torch.from_numpy(test_img).to(device)\n",
    "test_model = model(torch_img).to(device)"
   ],
   "id": "c594eb1c7d0dacbd",
   "outputs": [],
   "execution_count": 685
  },
  {
   "metadata": {
    "ExecuteTime": {
     "end_time": "2024-05-29T11:42:46.848734Z",
     "start_time": "2024-05-29T11:42:46.841390Z"
    }
   },
   "cell_type": "code",
   "source": [
    "idx = F.softmax(test_model.to(\"cpu\")).detach().numpy().argmax()\n",
    "root_classes[idx]"
   ],
   "id": "35fb00d1d6217ff0",
   "outputs": [
    {
     "name": "stderr",
     "output_type": "stream",
     "text": [
      "C:\\Users\\owtf0\\AppData\\Local\\Temp\\ipykernel_30248\\4108523807.py:1: UserWarning: Implicit dimension choice for softmax has been deprecated. Change the call to include dim=X as an argument.\n",
      "  idx = F.softmax(test_model.to(\"cpu\")).detach().numpy().argmax()\n"
     ]
    },
    {
     "data": {
      "text/plain": [
       "'('"
      ]
     },
     "execution_count": 686,
     "metadata": {},
     "output_type": "execute_result"
    }
   ],
   "execution_count": 686
  }
 ],
 "metadata": {
  "kernelspec": {
   "display_name": "Python 3 (ipykernel)",
   "language": "python",
   "name": "python3"
  },
  "language_info": {
   "codemirror_mode": {
    "name": "ipython",
    "version": 3
   },
   "file_extension": ".py",
   "mimetype": "text/x-python",
   "name": "python",
   "nbconvert_exporter": "python",
   "pygments_lexer": "ipython3",
   "version": "3.12.3"
  }
 },
 "nbformat": 4,
 "nbformat_minor": 5
}
